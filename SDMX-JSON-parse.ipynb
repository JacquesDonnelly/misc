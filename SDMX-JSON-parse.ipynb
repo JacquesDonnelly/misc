{
 "cells": [
  {
   "cell_type": "code",
   "execution_count": 1,
   "metadata": {},
   "outputs": [],
   "source": [
    "import requests\n",
    "from collections import Counter\n",
    "import pandas as pd"
   ]
  },
  {
   "cell_type": "markdown",
   "metadata": {},
   "source": [
    "I changed the start period to 2018 so it was faster to load"
   ]
  },
  {
   "cell_type": "code",
   "execution_count": 2,
   "metadata": {},
   "outputs": [],
   "source": [
    "r = requests.get(\"http://stat.data.abs.gov.au/sdmx-json/data/LF/0+1+2+3+4+5+6+7+8.1+2+3+4+5+11+12+13+7+8+6+9+16+15+14+17+10+18+19+20.1+3+2.1599+1519.10+20+30.M/all?detail=Full&dimensionAtObservation=AllDimensions&startPeriod=2018\")"
   ]
  },
  {
   "cell_type": "code",
   "execution_count": 3,
   "metadata": {},
   "outputs": [],
   "source": [
    "r.raise_for_status()"
   ]
  },
  {
   "cell_type": "code",
   "execution_count": 4,
   "metadata": {},
   "outputs": [],
   "source": [
    "df = pd.DataFrame(r.json()[\"dataSets\"][0][\"observations\"])"
   ]
  },
  {
   "cell_type": "code",
   "execution_count": 5,
   "metadata": {},
   "outputs": [],
   "source": [
    "df = df.T.reset_index()"
   ]
  },
  {
   "cell_type": "code",
   "execution_count": 6,
   "metadata": {},
   "outputs": [],
   "source": [
    "df = df.rename(\n",
    "    columns={\n",
    "        0: \"observation_0\", \n",
    "        1: \"observation_1\", \n",
    "        2: \"observation_2\"\n",
    "    }\n",
    ")"
   ]
  },
  {
   "cell_type": "code",
   "execution_count": 7,
   "metadata": {},
   "outputs": [],
   "source": [
    "df_index = df[\"index\"].str.split(\":\", expand=True)\n",
    "del df[\"index\"]"
   ]
  },
  {
   "cell_type": "markdown",
   "metadata": {},
   "source": [
    "The values in the colon delimited string and the id values in the structure section at the end of the json dont seem to match. I made the assumtion that the order is preseved in the structure relative to the values in the colon delimited string. This may be incorrect!\n",
    "\n",
    "It's worth validating this data somehow rather than just assuming this worked. If it is incorrect, I placed the logic in a function so it should be easy to modify"
   ]
  },
  {
   "cell_type": "code",
   "execution_count": 8,
   "metadata": {},
   "outputs": [],
   "source": [
    "def map_column(df_index, data, column):\n",
    "    \"\"\"\n",
    "    map integers in df_index to their corresponding names provided in the\n",
    "    structure section at the end of the json\n",
    "    \"\"\"\n",
    "    structure = data[\"structure\"][\"dimensions\"][\"observation\"]\n",
    "    keys = Counter(df_index[column]).keys() #counter not actually needed here\n",
    "    values = [x[\"name\"] for x in structure[column][\"values\"]]\n",
    "    mapping = dict(zip(keys, values))\n",
    "    return df_index[column].map(mapping)"
   ]
  },
  {
   "cell_type": "code",
   "execution_count": 9,
   "metadata": {},
   "outputs": [],
   "source": [
    "# use map column on each of the columns in df_index\n",
    "for column in df_index:\n",
    "    df_index[column] = map_column(df_index, data=r.json(), column=column)"
   ]
  },
  {
   "cell_type": "code",
   "execution_count": 10,
   "metadata": {},
   "outputs": [],
   "source": [
    "# rename the columns in df_index based on the names provided in structure\n",
    "structure = r.json()[\"structure\"][\"dimensions\"][\"observation\"]\n",
    "new_column_names = [x[\"name\"] for x in structure]\n",
    "old_column_names = df_index.columns\n",
    "\n",
    "df_index = df_index.rename(\n",
    "    columns=dict(zip(old_column_names, new_column_names))\n",
    ")"
   ]
  },
  {
   "cell_type": "code",
   "execution_count": 11,
   "metadata": {},
   "outputs": [
    {
     "data": {
      "text/html": [
       "<div>\n",
       "<style scoped>\n",
       "    .dataframe tbody tr th:only-of-type {\n",
       "        vertical-align: middle;\n",
       "    }\n",
       "\n",
       "    .dataframe tbody tr th {\n",
       "        vertical-align: top;\n",
       "    }\n",
       "\n",
       "    .dataframe thead th {\n",
       "        text-align: right;\n",
       "    }\n",
       "</style>\n",
       "<table border=\"1\" class=\"dataframe\">\n",
       "  <thead>\n",
       "    <tr style=\"text-align: right;\">\n",
       "      <th></th>\n",
       "      <th>Region</th>\n",
       "      <th>Data Item</th>\n",
       "      <th>Sex</th>\n",
       "      <th>Age</th>\n",
       "      <th>Adjustment Type</th>\n",
       "      <th>Frequency</th>\n",
       "      <th>Time</th>\n",
       "    </tr>\n",
       "  </thead>\n",
       "  <tbody>\n",
       "    <tr>\n",
       "      <th>0</th>\n",
       "      <td>Australia</td>\n",
       "      <td>Civilian population ('000)</td>\n",
       "      <td>Males</td>\n",
       "      <td>15 and over</td>\n",
       "      <td>Original</td>\n",
       "      <td>Monthly</td>\n",
       "      <td>Jan-2018</td>\n",
       "    </tr>\n",
       "    <tr>\n",
       "      <th>1</th>\n",
       "      <td>Australia</td>\n",
       "      <td>Civilian population ('000)</td>\n",
       "      <td>Males</td>\n",
       "      <td>15 and over</td>\n",
       "      <td>Original</td>\n",
       "      <td>Monthly</td>\n",
       "      <td>Feb-2018</td>\n",
       "    </tr>\n",
       "    <tr>\n",
       "      <th>2</th>\n",
       "      <td>Australia</td>\n",
       "      <td>Civilian population ('000)</td>\n",
       "      <td>Males</td>\n",
       "      <td>15 and over</td>\n",
       "      <td>Original</td>\n",
       "      <td>Monthly</td>\n",
       "      <td>Mar-2018</td>\n",
       "    </tr>\n",
       "    <tr>\n",
       "      <th>3</th>\n",
       "      <td>Australia</td>\n",
       "      <td>Civilian population ('000)</td>\n",
       "      <td>Males</td>\n",
       "      <td>15 and over</td>\n",
       "      <td>Original</td>\n",
       "      <td>Monthly</td>\n",
       "      <td>Apr-2018</td>\n",
       "    </tr>\n",
       "    <tr>\n",
       "      <th>4</th>\n",
       "      <td>Australia</td>\n",
       "      <td>Civilian population ('000)</td>\n",
       "      <td>Males</td>\n",
       "      <td>15 and over</td>\n",
       "      <td>Original</td>\n",
       "      <td>Monthly</td>\n",
       "      <td>May-2018</td>\n",
       "    </tr>\n",
       "  </tbody>\n",
       "</table>\n",
       "</div>"
      ],
      "text/plain": [
       "      Region                   Data Item    Sex          Age Adjustment Type  \\\n",
       "0  Australia  Civilian population ('000)  Males  15 and over        Original   \n",
       "1  Australia  Civilian population ('000)  Males  15 and over        Original   \n",
       "2  Australia  Civilian population ('000)  Males  15 and over        Original   \n",
       "3  Australia  Civilian population ('000)  Males  15 and over        Original   \n",
       "4  Australia  Civilian population ('000)  Males  15 and over        Original   \n",
       "\n",
       "  Frequency      Time  \n",
       "0   Monthly  Jan-2018  \n",
       "1   Monthly  Feb-2018  \n",
       "2   Monthly  Mar-2018  \n",
       "3   Monthly  Apr-2018  \n",
       "4   Monthly  May-2018  "
      ]
     },
     "execution_count": 11,
     "metadata": {},
     "output_type": "execute_result"
    }
   ],
   "source": [
    "df_index.head()"
   ]
  },
  {
   "cell_type": "code",
   "execution_count": 12,
   "metadata": {},
   "outputs": [],
   "source": [
    "# join index back to the df with the observations\n",
    "df = df.join(df_index)"
   ]
  },
  {
   "cell_type": "code",
   "execution_count": 13,
   "metadata": {},
   "outputs": [
    {
     "data": {
      "text/html": [
       "<div>\n",
       "<style scoped>\n",
       "    .dataframe tbody tr th:only-of-type {\n",
       "        vertical-align: middle;\n",
       "    }\n",
       "\n",
       "    .dataframe tbody tr th {\n",
       "        vertical-align: top;\n",
       "    }\n",
       "\n",
       "    .dataframe thead th {\n",
       "        text-align: right;\n",
       "    }\n",
       "</style>\n",
       "<table border=\"1\" class=\"dataframe\">\n",
       "  <thead>\n",
       "    <tr style=\"text-align: right;\">\n",
       "      <th></th>\n",
       "      <th>observation_0</th>\n",
       "      <th>observation_1</th>\n",
       "      <th>observation_2</th>\n",
       "      <th>Region</th>\n",
       "      <th>Data Item</th>\n",
       "      <th>Sex</th>\n",
       "      <th>Age</th>\n",
       "      <th>Adjustment Type</th>\n",
       "      <th>Frequency</th>\n",
       "      <th>Time</th>\n",
       "    </tr>\n",
       "  </thead>\n",
       "  <tbody>\n",
       "    <tr>\n",
       "      <th>0</th>\n",
       "      <td>9859.155</td>\n",
       "      <td>0.0</td>\n",
       "      <td>NaN</td>\n",
       "      <td>Australia</td>\n",
       "      <td>Civilian population ('000)</td>\n",
       "      <td>Males</td>\n",
       "      <td>15 and over</td>\n",
       "      <td>Original</td>\n",
       "      <td>Monthly</td>\n",
       "      <td>Jan-2018</td>\n",
       "    </tr>\n",
       "    <tr>\n",
       "      <th>1</th>\n",
       "      <td>9877.152</td>\n",
       "      <td>0.0</td>\n",
       "      <td>NaN</td>\n",
       "      <td>Australia</td>\n",
       "      <td>Civilian population ('000)</td>\n",
       "      <td>Males</td>\n",
       "      <td>15 and over</td>\n",
       "      <td>Original</td>\n",
       "      <td>Monthly</td>\n",
       "      <td>Feb-2018</td>\n",
       "    </tr>\n",
       "    <tr>\n",
       "      <th>2</th>\n",
       "      <td>9895.154</td>\n",
       "      <td>0.0</td>\n",
       "      <td>NaN</td>\n",
       "      <td>Australia</td>\n",
       "      <td>Civilian population ('000)</td>\n",
       "      <td>Males</td>\n",
       "      <td>15 and over</td>\n",
       "      <td>Original</td>\n",
       "      <td>Monthly</td>\n",
       "      <td>Mar-2018</td>\n",
       "    </tr>\n",
       "    <tr>\n",
       "      <th>3</th>\n",
       "      <td>9907.386</td>\n",
       "      <td>0.0</td>\n",
       "      <td>NaN</td>\n",
       "      <td>Australia</td>\n",
       "      <td>Civilian population ('000)</td>\n",
       "      <td>Males</td>\n",
       "      <td>15 and over</td>\n",
       "      <td>Original</td>\n",
       "      <td>Monthly</td>\n",
       "      <td>Apr-2018</td>\n",
       "    </tr>\n",
       "    <tr>\n",
       "      <th>4</th>\n",
       "      <td>9919.636</td>\n",
       "      <td>0.0</td>\n",
       "      <td>NaN</td>\n",
       "      <td>Australia</td>\n",
       "      <td>Civilian population ('000)</td>\n",
       "      <td>Males</td>\n",
       "      <td>15 and over</td>\n",
       "      <td>Original</td>\n",
       "      <td>Monthly</td>\n",
       "      <td>May-2018</td>\n",
       "    </tr>\n",
       "  </tbody>\n",
       "</table>\n",
       "</div>"
      ],
      "text/plain": [
       "   observation_0  observation_1  observation_2     Region  \\\n",
       "0       9859.155            0.0            NaN  Australia   \n",
       "1       9877.152            0.0            NaN  Australia   \n",
       "2       9895.154            0.0            NaN  Australia   \n",
       "3       9907.386            0.0            NaN  Australia   \n",
       "4       9919.636            0.0            NaN  Australia   \n",
       "\n",
       "                    Data Item    Sex          Age Adjustment Type Frequency  \\\n",
       "0  Civilian population ('000)  Males  15 and over        Original   Monthly   \n",
       "1  Civilian population ('000)  Males  15 and over        Original   Monthly   \n",
       "2  Civilian population ('000)  Males  15 and over        Original   Monthly   \n",
       "3  Civilian population ('000)  Males  15 and over        Original   Monthly   \n",
       "4  Civilian population ('000)  Males  15 and over        Original   Monthly   \n",
       "\n",
       "       Time  \n",
       "0  Jan-2018  \n",
       "1  Feb-2018  \n",
       "2  Mar-2018  \n",
       "3  Apr-2018  \n",
       "4  May-2018  "
      ]
     },
     "execution_count": 13,
     "metadata": {},
     "output_type": "execute_result"
    }
   ],
   "source": [
    "df.head()"
   ]
  }
 ],
 "metadata": {
  "kernelspec": {
   "display_name": "Python 3",
   "language": "python",
   "name": "python3"
  },
  "language_info": {
   "codemirror_mode": {
    "name": "ipython",
    "version": 3
   },
   "file_extension": ".py",
   "mimetype": "text/x-python",
   "name": "python",
   "nbconvert_exporter": "python",
   "pygments_lexer": "ipython3",
   "version": "3.6.7"
  }
 },
 "nbformat": 4,
 "nbformat_minor": 2
}
