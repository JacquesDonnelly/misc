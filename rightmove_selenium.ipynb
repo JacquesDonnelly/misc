{
 "cells": [
  {
   "cell_type": "code",
   "execution_count": 5,
   "metadata": {},
   "outputs": [],
   "source": [
    "from selenium import webdriver\n",
    "from selenium.webdriver.common.keys import Keys"
   ]
  },
  {
   "cell_type": "markdown",
   "metadata": {},
   "source": [
    "The code below navigates to rightmove, searches a postcode, sets the maximum distance and returns the address and price of the first page of results."
   ]
  },
  {
   "cell_type": "code",
   "execution_count": 68,
   "metadata": {},
   "outputs": [
    {
     "name": "stdout",
     "output_type": "stream",
     "text": [
      "Fairfield Road, Clacton-On-Sea\n",
      "£189,995\n",
      "West Street, Hunton, Maidstone, Kent\n",
      "£12,500,000\n",
      "Twyssenden, Goudhurst, Kent, TN17\n",
      "£6,950,000\n",
      "Thorn Lane, Stelling Minnis, Canterbury, Kent\n",
      "£6,000,000\n",
      "Wallasea Island, Rochford, Essex\n",
      "£5,925,000\n",
      "The Front, St Margarets Bay, Dover, Kent, CT15\n",
      "POA\n",
      "Cliff Road, Hythe, Kent, CT21\n",
      "£4,950,000\n",
      "Cousley Wood, Wadhurst, East Sussex, TN5\n",
      "£4,750,000\n",
      "LOWER DEANS FARM\n",
      "£4,600,000\n",
      "Woodnesborough, Sandwich, Kent\n",
      "£4,500,000\n",
      "Fairseat, Sevenoaks, Kent\n",
      "£4,250,000\n",
      "Bardown Road, Stonegate, Wadhurst, East Sussex, TN5\n",
      "£3,950,000\n",
      "High Oaks, High Road, Hockley, Essex, SS5\n",
      "£3,750,000\n",
      "School House Lane, Horsmonden, Tonbridge, Kent, TN12\n",
      "£3,650,000\n",
      "Sheepstreet Lane, Nr. Ticehurst, Etchingham, East Sussex, TN19\n",
      "£3,600,000\n",
      "Horns Hill, Hawkhurst, Cranbrook, Kent, TN18\n",
      "£3,250,000\n",
      "Tonbridge Road, Ightham, Sevenoaks, TN15\n",
      "POA\n",
      "Smallhythe Road, Tenterden, Kent\n",
      "POA\n",
      "Lighthouse, Cliff Parade, Leigh-on-Sea\n",
      "POA\n",
      "Princes Drive, Sandwich Bay, Sandwich, Kent\n",
      "£2,900,000\n",
      "Marine Drive and High Street, Margate, CT9\n",
      "£2,750,000\n",
      "The Shore, The Leas, Chalkwell\n",
      "POA\n",
      "Kingsgate College, Convent Road, Broadstairs, Kent, CT10 3PX\n",
      "£2,750,000\n",
      "Near Burnham-On-Crouch, Essex, CM0\n",
      "£2,750,000\n",
      "Rye Road, Playden, Rye, East Sussex, TN31\n",
      "£2,750,000\n"
     ]
    }
   ],
   "source": [
    "driver = webdriver.Firefox()\n",
    "driver.get(\"https://www.rightmove.co.uk/\")\n",
    "search_bar = driver.find_element_by_id(\"searchLocation\")\n",
    "search_bar.clear()\n",
    "search_bar.send_keys(\"CT3 3FA\")\n",
    "driver.find_element_by_id(\"buy\").click()\n",
    "distance_options = driver.find_element_by_id(\"radius\")\n",
    "all_options = distance_options.find_elements_by_tag_name(\"option\")\n",
    "for option in all_options:\n",
    "    if option.get_attribute(\"value\") == \"40.0\":\n",
    "        option.click()\n",
    "driver.find_element_by_id(\"submit\").click()\n",
    "results = driver.find_elements_by_css_selector(\".l-searchResult.is-list.is-not-grid\")\n",
    "for home in results:\n",
    "    address = home.find_element_by_css_selector(\".propertyCard-address\")\n",
    "    print(address.text)\n",
    "    price = home.find_element_by_css_selector(\".propertyCard-priceValue\")\n",
    "    print(price.text)"
   ]
  }
 ],
 "metadata": {
  "kernelspec": {
   "display_name": "Python 3",
   "language": "python",
   "name": "python3"
  },
  "language_info": {
   "codemirror_mode": {
    "name": "ipython",
    "version": 3
   },
   "file_extension": ".py",
   "mimetype": "text/x-python",
   "name": "python",
   "nbconvert_exporter": "python",
   "pygments_lexer": "ipython3",
   "version": "3.6.8"
  }
 },
 "nbformat": 4,
 "nbformat_minor": 2
}
