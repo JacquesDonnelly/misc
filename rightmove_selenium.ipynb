{
 "cells": [
  {
   "cell_type": "code",
   "execution_count": 7,
   "metadata": {},
   "outputs": [],
   "source": [
    "from selenium import webdriver\n",
    "from selenium.webdriver.common.keys import Keys"
   ]
  },
  {
   "cell_type": "markdown",
   "metadata": {},
   "source": [
    "The code below navigates to rightmove, searches a postcode, sets the maximum distance and returns the address and price of the first page of results."
   ]
  },
  {
   "cell_type": "code",
   "execution_count": 8,
   "metadata": {},
   "outputs": [
    {
     "name": "stdout",
     "output_type": "stream",
     "text": [
      "Nonington\n",
      "£415,000\n",
      "Ratling Road, Adisham, Canterbury, Kent\n",
      "£2,300,000\n",
      "Bridge Hill, Bridge, Canterbury, Kent\n",
      "£1,350,000\n",
      "Derringstone Hill, Barham, Canterbury, Kent\n",
      "£1,250,000\n",
      "Woodlands Road, Adisham, Canterbury, Kent\n",
      "£950,000\n",
      "Mill Lane, Barham, Canterbury, Kent\n",
      "£875,000\n",
      "Saddlers Hill, Goodnestone, Canterbury, Kent\n",
      "£875,000\n",
      "Goodnestone, Canterbury\n",
      "£875,000\n",
      "Gravel Castle Road, Barham, Canterbury, Kent\n",
      "£800,000\n",
      "Orchard Yard, Wingham, Canterbury, Kent\n",
      "£720,000\n",
      "Sandwich Road, Nonington\n",
      "£695,000\n",
      "Gravel Castle Road, Barham, Canterbury, Kent\n",
      "£675,000\n",
      "Barfrestone\n",
      "£650,000\n",
      "Canterbury Road, Wingham, Canterbury\n",
      "POA\n",
      "Canterbury Road, Wingham, Kent\n",
      "£560,000\n",
      "Heathfield Way, Barham\n",
      "£495,000\n",
      "Church Lane, Womenswold, Kent\n",
      "£475,000\n",
      "The Grove, Barham, Canterbury, Kent\n",
      "£475,000\n",
      "Heathfield Way, Barham, Canterbury\n",
      "£475,000\n",
      "Wingham, Canterbury\n",
      "£450,000\n",
      "Millyard Road, Aylesham, Canterbury\n",
      "£450,000\n",
      "The Street, Kingston, Canterbury, Kent, CT4\n",
      "£450,000\n",
      "The Street, Kingston\n",
      "£435,000\n",
      "Easole Heights, Nonington\n",
      "£425,000\n",
      "The Street, Adisham, Canterbury\n",
      "£425,000\n"
     ]
    }
   ],
   "source": [
    "driver = webdriver.Firefox()\n",
    "driver.get(\"https://www.rightmove.co.uk/\")\n",
    "search_bar = driver.find_element_by_id(\"searchLocation\")\n",
    "search_bar.clear()\n",
    "search_bar.send_keys(\"CT3 3FA\")\n",
    "driver.find_element_by_id(\"buy\").click()\n",
    "distance_options = driver.find_element_by_id(\"radius\")\n",
    "all_options = distance_options.find_elements_by_tag_name(\"option\")\n",
    "for option in all_options:\n",
    "    if option.get_attribute(\"value\") == \"3.0\":\n",
    "        option.click()\n",
    "driver.find_element_by_id(\"submit\").click()\n",
    "results = driver.find_elements_by_css_selector(\".l-searchResult.is-list.is-not-grid\")\n",
    "for home in results:\n",
    "    address = home.find_element_by_css_selector(\".propertyCard-address\")\n",
    "    print(address.text)\n",
    "    price = home.find_element_by_css_selector(\".propertyCard-priceValue\")\n",
    "    print(price.text)"
   ]
  }
 ],
 "metadata": {
  "kernelspec": {
   "display_name": "Python 3",
   "language": "python",
   "name": "python3"
  },
  "language_info": {
   "codemirror_mode": {
    "name": "ipython",
    "version": 3
   },
   "file_extension": ".py",
   "mimetype": "text/x-python",
   "name": "python",
   "nbconvert_exporter": "python",
   "pygments_lexer": "ipython3",
   "version": "3.6.9"
  }
 },
 "nbformat": 4,
 "nbformat_minor": 2
}
