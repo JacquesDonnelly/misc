{
 "cells": [
  {
   "cell_type": "code",
   "execution_count": 2,
   "metadata": {},
   "outputs": [],
   "source": [
    "from selenium import webdriver\n",
    "from selenium.webdriver.common.keys import Keys"
   ]
  },
  {
   "cell_type": "markdown",
   "metadata": {},
   "source": [
    "The code below navigates to rightmove, searches a postcode, sets the maximum distance and returns the address and price of the first page of results."
   ]
  },
  {
   "cell_type": "code",
   "execution_count": 3,
   "metadata": {},
   "outputs": [
    {
     "name": "stdout",
     "output_type": "stream",
     "text": [
      "Overton Road, Benfleet, Essex, SS7\n",
      "£335,000\n",
      "West Street, Hunton, Maidstone, Kent\n",
      "£12,500,000\n",
      "Twyssenden, Goudhurst, Kent, TN17\n",
      "£6,950,000\n",
      "Thorn Lane, Stelling Minnis, Canterbury, Kent\n",
      "£6,000,000\n",
      "Wallasea Island, Rochford, Essex\n",
      "£5,925,000\n",
      "The Front, St Margarets Bay, Dover, Kent, CT15\n",
      "POA\n",
      "Cliff Road, Hythe, Kent, CT21\n",
      "£4,950,000\n",
      "Cousley Wood, Wadhurst, East Sussex, TN5\n",
      "£4,750,000\n",
      "LOWER DEANS FARM\n",
      "£4,600,000\n",
      "Woodnesborough, Sandwich, Kent\n",
      "£4,500,000\n",
      "Fairseat, Sevenoaks, Kent\n",
      "£4,250,000\n",
      "Carnarvon Road, Clacton-on-Sea\n",
      "£4,000,000\n",
      "Bardown Road, Stonegate, Wadhurst, East Sussex, TN5\n",
      "£3,950,000\n",
      "High Oaks, High Road, Hockley, Essex, SS5\n",
      "£3,750,000\n",
      "School House Lane, Horsmonden, Tonbridge, Kent, TN12\n",
      "£3,650,000\n",
      "Sheepstreet Lane, Nr. Ticehurst, Etchingham, East Sussex, TN19\n",
      "£3,600,000\n",
      "Horns Hill, Hawkhurst, Cranbrook, Kent, TN18\n",
      "£3,250,000\n",
      "Smallhythe Road, Tenterden, Kent\n",
      "POA\n",
      "Tonbridge Road, Ightham, Sevenoaks, TN15\n",
      "POA\n",
      "Lighthouse, Cliff Parade, Leigh-on-Sea\n",
      "POA\n",
      "Princes Drive, Sandwich Bay, Sandwich, Kent\n",
      "£2,900,000\n",
      "The Shore, The Leas, Chalkwell\n",
      "POA\n",
      "Kingsgate College, Convent Road, Broadstairs, Kent, CT10 3PX\n",
      "£2,750,000\n",
      "Marine Drive and High Street, Margate, CT9\n",
      "£2,750,000\n",
      "The Shore, Westcliff-on-sea, Essex\n",
      "POA\n"
     ]
    }
   ],
   "source": [
    "driver = webdriver.Firefox()\n",
    "driver.get(\"https://www.rightmove.co.uk/\")\n",
    "search_bar = driver.find_element_by_id(\"searchLocation\")\n",
    "search_bar.clear()\n",
    "search_bar.send_keys(\"CT3 3FA\")\n",
    "driver.find_element_by_id(\"buy\").click()\n",
    "distance_options = driver.find_element_by_id(\"radius\")\n",
    "all_options = distance_options.find_elements_by_tag_name(\"option\")\n",
    "for option in all_options:\n",
    "    if option.get_attribute(\"value\") == \"40.0\":\n",
    "        option.click()\n",
    "driver.find_element_by_id(\"submit\").click()\n",
    "results = driver.find_elements_by_css_selector(\".l-searchResult.is-list.is-not-grid\")\n",
    "for home in results:\n",
    "    address = home.find_element_by_css_selector(\".propertyCard-address\")\n",
    "    print(address.text)\n",
    "    price = home.find_element_by_css_selector(\".propertyCard-priceValue\")\n",
    "    print(price.text)"
   ]
  },
  {
   "cell_type": "code",
   "execution_count": 1,
   "metadata": {},
   "outputs": [
    {
     "name": "stdout",
     "output_type": "stream",
     "text": [
      "Collecting textblob\n",
      "  Downloading https://files.pythonhosted.org/packages/60/f0/1d9bfcc8ee6b83472ec571406bd0dd51c0e6330ff1a51b2d29861d389e85/textblob-0.15.3-py2.py3-none-any.whl (636kB)\n",
      "\u001b[K    100% |████████████████████████████████| 645kB 560kB/s ta 0:00:01\n",
      "\u001b[?25hCollecting nltk>=3.1 (from textblob)\n",
      "  Downloading https://files.pythonhosted.org/packages/f6/1d/d925cfb4f324ede997f6d47bea4d9babba51b49e87a767c170b77005889d/nltk-3.4.5.zip (1.5MB)\n",
      "\u001b[K    100% |████████████████████████████████| 1.5MB 513kB/s ta 0:00:01\n",
      "\u001b[?25hRequirement already satisfied: six in ./venv/lib/python3.6/site-packages (from nltk>=3.1->textblob)\n",
      "Building wheels for collected packages: nltk\n",
      "  Running setup.py bdist_wheel for nltk ... \u001b[?25lerror\n",
      "  Complete output from command /home/jacques/git/JacquesDonnelly/misc/venv/bin/python3 -u -c \"import setuptools, tokenize;__file__='/tmp/pip-build-sta9sg4z/nltk/setup.py';f=getattr(tokenize, 'open', open)(__file__);code=f.read().replace('\\r\\n', '\\n');f.close();exec(compile(code, __file__, 'exec'))\" bdist_wheel -d /tmp/tmpamnl7fchpip-wheel- --python-tag cp36:\n",
      "  usage: -c [global_opts] cmd1 [cmd1_opts] [cmd2 [cmd2_opts] ...]\n",
      "     or: -c --help [cmd1 cmd2 ...]\n",
      "     or: -c --help-commands\n",
      "     or: -c cmd --help\n",
      "  \n",
      "  error: invalid command 'bdist_wheel'\n",
      "  \n",
      "  ----------------------------------------\n",
      "\u001b[31m  Failed building wheel for nltk\u001b[0m\n",
      "\u001b[?25h  Running setup.py clean for nltk\n",
      "Failed to build nltk\n",
      "Installing collected packages: nltk, textblob\n",
      "  Running setup.py install for nltk ... \u001b[?25ldone\n",
      "\u001b[?25hSuccessfully installed nltk-3.4.5 textblob-0.15.3\n"
     ]
    }
   ],
   "source": [
    "!pip3 install textblob"
   ]
  },
  {
   "cell_type": "code",
   "execution_count": 2,
   "metadata": {},
   "outputs": [],
   "source": [
    "from textblob import TextBlob"
   ]
  },
  {
   "cell_type": "code",
   "execution_count": 3,
   "metadata": {},
   "outputs": [],
   "source": [
    "desc = TextBlob(\"\"\"\n",
    "Updown Farmhouse is a beautiful mellow Kentish farmhouse. Surrounded by a shelter belt of woodland, the property enjoys a high level of privacy and seclusion. A short drive leads off a quiet lane to the house.\n",
    "\n",
    "With attractive stone elevations to the front, the main entrance is set within a round-headed, gabled portico. The entrance vestibule opens to the hall, a welcoming space where one is immediately aware of the elegance of this fine house. The sitting room/library has windows on two aspects filling this lovely fully panelled room with light; fitted bookshelves are mirrored either side of the fireplace.\n",
    "\n",
    "Facing virtually due south, the drawing room is the perfect place for a family gathering. With generous open fireplaces at each end, the room can be used as a more intimate space or opened up to enjoy its fullest extent. A door from here leads directly to the terrace. To the eastern end there is access to the study and to the opposite end a door opens into the snug (currently used as a playroom), which in turn leads into the orangery style dining room. With windows on three sides the dining room enjoys views over the garden - on a sunny day, with the doors opening to the garden, this is the perfect spot for informal entertaining.\n",
    "\n",
    "Bi-fold doors open to the beautifully crafted, custom built kitchen/breakfast room. Centred around an island there are ample wall and floor cupboards with extensive work surfaces over. Beyond is the useful utility room.\n",
    "\n",
    "The staircase rises to a wide landing. The generous master suite comprises a large double aspect bedroom, bathroom and dressing room. The remainder of the first floor accommodation is made up of three further bedrooms and two bathrooms (one en-suite). A further staircase leads to the second floor bedroom.\n",
    "\n",
    "The Cottages\n",
    "Within the grounds are two detached cottages:\n",
    "\n",
    "Beech Cottage comprises a sitting room, reception room/kitchen, three bedrooms and a bathroom.\n",
    "\n",
    "Gardener’s Cottage is a delightful conversion and provides an open plan living area with a kitchenette together with a shower room.\n",
    "\n",
    "Betteshanger is a rural village to the west of the popular town of Deal. Both Deal and Sandwich provide a broad range of shopping, leisure and educational amenities with nearby Canterbury and Dover providing a comprehensive range of services as well as a good selection of well-regarded schools. The area offers plentiful outdoor pursuits with lovely coastal cliff walks, fishing and sailing.\n",
    "\n",
    "The A256 Eastry bypass gives access to the A2 at Whitfield. Dover station offers High Speed services to London St Pancras in just over an hour. Access to the Continent is excellent via the Port of Dover, the Channel Tunnel terminal at Folkestone and Eurostar services from Ashford International.\n",
    "\n",
    "The lightly wooded setting of Updown Farmhouse is of immediate appeal. The house is set on slightly raised ground and stands proud of the gardens, which are laid out as a series of rooms, with tall mature beech hedges giving structure and form. Wide expanses of lawn are interspersed with specimen trees. To the west of the house are more formal gardens with wide herbaceous beds backed by profusely flowering climbing and rambling roses. A York stone terrace runs the width of the house and has central steps down to the lower lawn area.\n",
    "\n",
    "This area of the garden is bounded by a high brick wall. Facing the house is a wonderful “al fresco” entertaining area. A glazed roof covered with a mature vine gives an air of Mediterranean calm and the perfect spot for long lazy lunches. Immediately adjoining is an outdoor cooking area with a brick built barbecue and an Italian pizza oven, which is built into the former stable block. The main entertaining room has a wood burning stove and stairs to a mezzanine level. Adjoining are two further store rooms.\n",
    "\n",
    "Nearby is the magnificent period barn. Of cathedral like proportions the barn has raised stage areas at each end, and has previously been used as a venue for private concerts and opera performances. It may be possible to convert the barn into residential space, subject to all the required consents.\n",
    "\n",
    "Beyond the formal gardens is a delightful shaded dell like area with beautiful trees and wide meandering walkways cut through wild flower meadows. A copse wraps around the outer edge of the property giving high levels of protection and privacy. A second drive leads to two further buildings\")\"\"\")"
   ]
  },
  {
   "cell_type": "code",
   "execution_count": 23,
   "metadata": {},
   "outputs": [
    {
     "data": {
      "text/plain": [
       "'entrance'"
      ]
     },
     "execution_count": 23,
     "metadata": {},
     "output_type": "execute_result"
    }
   ],
   "source": [
    "desc.words[45].lemmatize()"
   ]
  },
  {
   "cell_type": "code",
   "execution_count": null,
   "metadata": {},
   "outputs": [],
   "source": []
  }
 ],
 "metadata": {
  "kernelspec": {
   "display_name": "Python 3",
   "language": "python",
   "name": "python3"
  },
  "language_info": {
   "codemirror_mode": {
    "name": "ipython",
    "version": 3
   },
   "file_extension": ".py",
   "mimetype": "text/x-python",
   "name": "python",
   "nbconvert_exporter": "python",
   "pygments_lexer": "ipython3",
   "version": "3.6.8"
  }
 },
 "nbformat": 4,
 "nbformat_minor": 2
}
