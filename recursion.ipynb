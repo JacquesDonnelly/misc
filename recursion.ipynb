{
 "cells": [
  {
   "cell_type": "code",
   "execution_count": 108,
   "metadata": {},
   "outputs": [],
   "source": [
    "import re\n",
    "import requests"
   ]
  },
  {
   "cell_type": "code",
   "execution_count": 111,
   "metadata": {},
   "outputs": [],
   "source": [
    "def find_branches(word, elements):\n",
    "    choices = []\n",
    "    for element in elements:\n",
    "        matches = re.finditer(element, word)\n",
    "        for match in matches:\n",
    "            choice = f\"{word[:match.start()]}.{word[match.end():]}\"\n",
    "            choices.append(choice)\n",
    "    return choices"
   ]
  },
  {
   "cell_type": "code",
   "execution_count": 127,
   "metadata": {},
   "outputs": [],
   "source": [
    "def is_elemental(word, elements):\n",
    "    if word.replace(\".\", \"\") == \"\":\n",
    "        return True\n",
    "    branches = find_branches(word, elements)\n",
    "    if not branches:\n",
    "        return False\n",
    "    for branch in branches:\n",
    "        return is_elemental(branch, elements)"
   ]
  },
  {
   "cell_type": "code",
   "execution_count": 133,
   "metadata": {},
   "outputs": [
    {
     "data": {
      "text/plain": [
       "<Response [200]>"
      ]
     },
     "execution_count": 133,
     "metadata": {},
     "output_type": "execute_result"
    }
   ],
   "source": [
    "r = requests.get(\n",
    "    \"https://raw.githubusercontent.com/dwyl/english-words/master/words.txt\"\n",
    ")"
   ]
  },
  {
   "cell_type": "code",
   "execution_count": 142,
   "metadata": {},
   "outputs": [],
   "source": [
    "words = [word.lower() for word in r.text.splitlines()]"
   ]
  },
  {
   "cell_type": "code",
   "execution_count": 152,
   "metadata": {},
   "outputs": [],
   "source": [
    "elements = [\n",
    "    \"Ac\",\n",
    "    \"Ag\",\n",
    "    \"Al\",\n",
    "    \"Am\",\n",
    "    \"Ar\",\n",
    "    \"As\",\n",
    "    \"At\",\n",
    "    \"Au\",\n",
    "    \"B\",\n",
    "    \"Ba\",\n",
    "    \"Be\",\n",
    "    \"Bh\",\n",
    "    \"Bi\",\n",
    "    \"Bk\",\n",
    "    \"Br\",\n",
    "    \"C\",\n",
    "    \"Ca\",\n",
    "    \"Cd\",\n",
    "    \"Ce\",\n",
    "    \"Cf\",\n",
    "    \"Cl\",\n",
    "    \"Cm\",\n",
    "    \"Cn\",\n",
    "    \"Co\",\n",
    "    \"Cr\",\n",
    "    \"Cs\",\n",
    "    \"Cu\",\n",
    "    \"Db\",\n",
    "    \"Ds\",\n",
    "    \"Dy\",\n",
    "    \"Er\",\n",
    "    \"Es\",\n",
    "    \"Eu\",\n",
    "    \"F\",\n",
    "    \"Fe\",\n",
    "    \"Fl\",\n",
    "    \"Fm\",\n",
    "    \"Fr\",\n",
    "    \"Ga\",\n",
    "    \"Gd\",\n",
    "    \"Ge\",\n",
    "    \"H\",\n",
    "    \"He\",\n",
    "    \"Hf\",\n",
    "    \"Hg\",\n",
    "    \"Ho\",\n",
    "    \"Hs\",\n",
    "    \"I\",\n",
    "    \"In\",\n",
    "    \"Ir\",\n",
    "    \"K\",\n",
    "    \"Kr\",\n",
    "    \"La\",\n",
    "    \"Li\",\n",
    "    \"Lr\",\n",
    "    \"Lu\",\n",
    "    \"Lv\",\n",
    "    \"Mc\",\n",
    "    \"Md\",\n",
    "    \"Mg\",\n",
    "    \"Mn\",\n",
    "    \"Mo\",\n",
    "    \"Mt\",\n",
    "    \"N\",\n",
    "    \"Na\",\n",
    "    \"Nb\",\n",
    "    \"Nd\",\n",
    "    \"Ne\",\n",
    "    \"Nh\",\n",
    "    \"Ni\",\n",
    "    \"No\",\n",
    "    \"Np\",\n",
    "    \"O\",\n",
    "    \"Og\",\n",
    "    \"Os\",\n",
    "    \"P\",\n",
    "    \"Pa\",\n",
    "    \"Pb\",\n",
    "    \"Pd\",\n",
    "    \"Pm\",\n",
    "    \"Po\",\n",
    "    \"Pr\",\n",
    "    \"Pt\",\n",
    "    \"Pu\",\n",
    "    \"Ra\",\n",
    "    \"Rb\",\n",
    "    \"Re\",\n",
    "    \"Rf\",\n",
    "    \"Rg\",\n",
    "    \"Rh\",\n",
    "    \"Rn\",\n",
    "    \"Ru\",\n",
    "    \"S\",\n",
    "    \"Sb\",\n",
    "    \"Sc\",\n",
    "    \"Se\",\n",
    "    \"Sg\",\n",
    "    \"Si\",\n",
    "    \"Sm\",\n",
    "    \"Sn\",\n",
    "    \"Sr\",\n",
    "    \"Ta\",\n",
    "    \"Tb\",\n",
    "    \"Tc\",\n",
    "    \"Te\",\n",
    "    \"Th\",\n",
    "    \"Ti\",\n",
    "    \"Tl\",\n",
    "    \"Tm\",\n",
    "    \"Ts\",\n",
    "    \"U\",\n",
    "    \"V\",\n",
    "    \"W\",\n",
    "    \"Xe\",\n",
    "    \"Y\",\n",
    "    \"Yb\",\n",
    "    \"Zn\",\n",
    "    \"Zr\",\n",
    "]"
   ]
  },
  {
   "cell_type": "code",
   "execution_count": 154,
   "metadata": {},
   "outputs": [],
   "source": [
    "elements = [element.lower() for element in elements]"
   ]
  },
  {
   "cell_type": "code",
   "execution_count": 157,
   "metadata": {},
   "outputs": [],
   "source": [
    "elemental_words = [word for word in words if is_elemental(word, elements)]"
   ]
  },
  {
   "cell_type": "code",
   "execution_count": 165,
   "metadata": {
    "scrolled": false
   },
   "outputs": [
    {
     "data": {
      "text/plain": [
       "['nonsubconsciousness',\n",
       " 'overintensification',\n",
       " 'superprecariousness',\n",
       " 'supersuspiciousness',\n",
       " 'hyperbarbarousness',\n",
       " 'hyperconsciousness',\n",
       " 'hypertechnicalness',\n",
       " 'nonpersonification',\n",
       " 'oversuspiciousness',\n",
       " 'permocarboniferous']"
      ]
     },
     "execution_count": 165,
     "metadata": {},
     "output_type": "execute_result"
    }
   ],
   "source": [
    "sorted(elemental_words, key=lambda x: -len(x))[:10]"
   ]
  }
 ],
 "metadata": {
  "kernelspec": {
   "display_name": "Python 3",
   "language": "python",
   "name": "python3"
  },
  "language_info": {
   "codemirror_mode": {
    "name": "ipython",
    "version": 3
   },
   "file_extension": ".py",
   "mimetype": "text/x-python",
   "name": "python",
   "nbconvert_exporter": "python",
   "pygments_lexer": "ipython3",
   "version": "3.6.9"
  }
 },
 "nbformat": 4,
 "nbformat_minor": 2
}
