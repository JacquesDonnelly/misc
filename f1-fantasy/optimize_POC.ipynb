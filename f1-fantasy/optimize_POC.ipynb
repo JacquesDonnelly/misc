{
 "cells": [
  {
   "cell_type": "code",
   "execution_count": 1,
   "metadata": {},
   "outputs": [],
   "source": [
    "import pandas as pd\n",
    "from pulp import *"
   ]
  },
  {
   "cell_type": "markdown",
   "metadata": {},
   "source": [
    "# POC\n",
    "To start I will assume I have already ran simulations and translated the results to a set of EVs. I will even boil the problem down to something even more basic with some dummy data to start.\n",
    "## Dummy Data\n",
    "Lets say we get to choose between 10 drivers, we only get to pick 3 and they have the following prices and EVs."
   ]
  },
  {
   "cell_type": "code",
   "execution_count": 2,
   "metadata": {},
   "outputs": [],
   "source": [
    "df = pd.DataFrame(\n",
    "    {\n",
    "        \"driver\": [\"AAAAAA\", \"BBBBBB\", \"CCCCCC\", \"DDDDDD\", \"EEEEEE\", \"FFFFFF\", \"GGGGGG\", \"HHHHHH\", \"IIIIII\", \"JJJJJJ\"],\n",
    "        \"EV\": [1,2,1,2,3,1,2,3,1.5,1],\n",
    "        \"price\": [5, 8, 4, 9, 13, 5, 6, 10, 7, 2]\n",
    "    }\n",
    ")"
   ]
  },
  {
   "cell_type": "code",
   "execution_count": 3,
   "metadata": {},
   "outputs": [],
   "source": [
    "df[\"value\"] = df[\"EV\"] / df[\"price\"]"
   ]
  },
  {
   "cell_type": "markdown",
   "metadata": {},
   "source": [
    "Then we add the metric `value` representing the EV per unit price. This just helps us vizualize the best value drivers - at the top of the following table"
   ]
  },
  {
   "cell_type": "code",
   "execution_count": 4,
   "metadata": {},
   "outputs": [
    {
     "data": {
      "text/html": [
       "<div>\n",
       "<style scoped>\n",
       "    .dataframe tbody tr th:only-of-type {\n",
       "        vertical-align: middle;\n",
       "    }\n",
       "\n",
       "    .dataframe tbody tr th {\n",
       "        vertical-align: top;\n",
       "    }\n",
       "\n",
       "    .dataframe thead th {\n",
       "        text-align: right;\n",
       "    }\n",
       "</style>\n",
       "<table border=\"1\" class=\"dataframe\">\n",
       "  <thead>\n",
       "    <tr style=\"text-align: right;\">\n",
       "      <th></th>\n",
       "      <th>driver</th>\n",
       "      <th>EV</th>\n",
       "      <th>price</th>\n",
       "      <th>value</th>\n",
       "    </tr>\n",
       "  </thead>\n",
       "  <tbody>\n",
       "    <tr>\n",
       "      <th>9</th>\n",
       "      <td>JJJJJJ</td>\n",
       "      <td>1.0</td>\n",
       "      <td>2</td>\n",
       "      <td>0.500000</td>\n",
       "    </tr>\n",
       "    <tr>\n",
       "      <th>6</th>\n",
       "      <td>GGGGGG</td>\n",
       "      <td>2.0</td>\n",
       "      <td>6</td>\n",
       "      <td>0.333333</td>\n",
       "    </tr>\n",
       "    <tr>\n",
       "      <th>7</th>\n",
       "      <td>HHHHHH</td>\n",
       "      <td>3.0</td>\n",
       "      <td>10</td>\n",
       "      <td>0.300000</td>\n",
       "    </tr>\n",
       "    <tr>\n",
       "      <th>1</th>\n",
       "      <td>BBBBBB</td>\n",
       "      <td>2.0</td>\n",
       "      <td>8</td>\n",
       "      <td>0.250000</td>\n",
       "    </tr>\n",
       "    <tr>\n",
       "      <th>2</th>\n",
       "      <td>CCCCCC</td>\n",
       "      <td>1.0</td>\n",
       "      <td>4</td>\n",
       "      <td>0.250000</td>\n",
       "    </tr>\n",
       "    <tr>\n",
       "      <th>4</th>\n",
       "      <td>EEEEEE</td>\n",
       "      <td>3.0</td>\n",
       "      <td>13</td>\n",
       "      <td>0.230769</td>\n",
       "    </tr>\n",
       "    <tr>\n",
       "      <th>3</th>\n",
       "      <td>DDDDDD</td>\n",
       "      <td>2.0</td>\n",
       "      <td>9</td>\n",
       "      <td>0.222222</td>\n",
       "    </tr>\n",
       "    <tr>\n",
       "      <th>8</th>\n",
       "      <td>IIIIII</td>\n",
       "      <td>1.5</td>\n",
       "      <td>7</td>\n",
       "      <td>0.214286</td>\n",
       "    </tr>\n",
       "    <tr>\n",
       "      <th>0</th>\n",
       "      <td>AAAAAA</td>\n",
       "      <td>1.0</td>\n",
       "      <td>5</td>\n",
       "      <td>0.200000</td>\n",
       "    </tr>\n",
       "    <tr>\n",
       "      <th>5</th>\n",
       "      <td>FFFFFF</td>\n",
       "      <td>1.0</td>\n",
       "      <td>5</td>\n",
       "      <td>0.200000</td>\n",
       "    </tr>\n",
       "  </tbody>\n",
       "</table>\n",
       "</div>"
      ],
      "text/plain": [
       "   driver   EV  price     value\n",
       "9  JJJJJJ  1.0      2  0.500000\n",
       "6  GGGGGG  2.0      6  0.333333\n",
       "7  HHHHHH  3.0     10  0.300000\n",
       "1  BBBBBB  2.0      8  0.250000\n",
       "2  CCCCCC  1.0      4  0.250000\n",
       "4  EEEEEE  3.0     13  0.230769\n",
       "3  DDDDDD  2.0      9  0.222222\n",
       "8  IIIIII  1.5      7  0.214286\n",
       "0  AAAAAA  1.0      5  0.200000\n",
       "5  FFFFFF  1.0      5  0.200000"
      ]
     },
     "execution_count": 4,
     "metadata": {},
     "output_type": "execute_result"
    }
   ],
   "source": [
    "df.sort_values(\"value\", ascending=False)"
   ]
  },
  {
   "cell_type": "markdown",
   "metadata": {},
   "source": [
    "Lets say our budget is 15 bucks. What team should we choose? For example, **{J, G, C} gives an EV of 4**. At first sight this seems to be the best. Let's see if we can create an optimizer to reproduce this. Let's try and formulate the problem mathematically."
   ]
  },
  {
   "cell_type": "markdown",
   "metadata": {},
   "source": [
    "## Formulate the Problem\n",
    "### Decision Variables\n",
    "The choice of drivers $ d_i \\in \\{0,1\\} $ for each driver $ i=0,...,9$\n",
    "### Objective Function\n",
    "For each boolean driver choice $ d_i $, and driver expected value $  e_i $, maximize the function $$ \\sum_{i=0}^{9} d_i e_i $$\n",
    "### Constraints\n",
    "For each driver price $ p_i $\n",
    "$$ \\sum_{i=0}^{9} d_i p_i < 15 $$\n",
    "and \n",
    "$$ \\sum_{i=0}^{9} d_i = 3 $$\n",
    "### Data\n",
    "All required data, $ e_i $ and $ p_i $ for $ i=1,...,9 $ is contained in `df`"
   ]
  },
  {
   "cell_type": "markdown",
   "metadata": {},
   "source": [
    "## Solution\n",
    "This is a type of integer program problem given that the decision variables may only take integer values (specifically 0 or 1) rather than real variables. Finding the solution is trivial with pulp. "
   ]
  },
  {
   "cell_type": "code",
   "execution_count": 36,
   "metadata": {},
   "outputs": [],
   "source": [
    "drivers = df[\"driver\"].to_list()\n",
    "EVs = df.set_index(\"driver\").to_dict()[\"EV\"]\n",
    "prices = df.set_index(\"driver\").to_dict()[\"price\"]"
   ]
  },
  {
   "cell_type": "code",
   "execution_count": 37,
   "metadata": {},
   "outputs": [],
   "source": [
    "prob = LpProblem(\"F1-Fantasy\", LpMaximize)"
   ]
  },
  {
   "cell_type": "code",
   "execution_count": 38,
   "metadata": {},
   "outputs": [],
   "source": [
    "driver_choices = LpVariable.dicts(\n",
    "    \"driver_choices\",\n",
    "    drivers,\n",
    "    lowBound=0,\n",
    "    upBound=1,\n",
    "    cat=LpInteger\n",
    ")"
   ]
  },
  {
   "cell_type": "code",
   "execution_count": 39,
   "metadata": {},
   "outputs": [],
   "source": [
    "prob += lpSum([EVs[d]*driver_choices[d] for d in drivers]), \"Total EV\""
   ]
  },
  {
   "cell_type": "code",
   "execution_count": 40,
   "metadata": {},
   "outputs": [],
   "source": [
    "prob += lpSum([prices[d]*driver_choices[d] for d in drivers]) <= 15.0, \"Total Price\""
   ]
  },
  {
   "cell_type": "code",
   "execution_count": 41,
   "metadata": {},
   "outputs": [],
   "source": [
    "prob += lpSum([driver_choices[d] for d in drivers]) == 3.0, \"Number of Drivers\""
   ]
  },
  {
   "cell_type": "code",
   "execution_count": 43,
   "metadata": {},
   "outputs": [
    {
     "data": {
      "text/plain": [
       "1"
      ]
     },
     "execution_count": 43,
     "metadata": {},
     "output_type": "execute_result"
    }
   ],
   "source": [
    "prob.solve()"
   ]
  },
  {
   "cell_type": "code",
   "execution_count": 45,
   "metadata": {},
   "outputs": [
    {
     "name": "stdout",
     "output_type": "stream",
     "text": [
      "Optimal\n"
     ]
    }
   ],
   "source": [
    "print(LpStatus[prob.status])"
   ]
  },
  {
   "cell_type": "code",
   "execution_count": 44,
   "metadata": {},
   "outputs": [
    {
     "name": "stdout",
     "output_type": "stream",
     "text": [
      "driver_choices_AAAAAA = 0.0\n",
      "driver_choices_BBBBBB = 0.0\n",
      "driver_choices_CCCCCC = 0.0\n",
      "driver_choices_DDDDDD = 0.0\n",
      "driver_choices_EEEEEE = 0.0\n",
      "driver_choices_FFFFFF = 0.0\n",
      "driver_choices_GGGGGG = 1.0\n",
      "driver_choices_HHHHHH = 0.0\n",
      "driver_choices_IIIIII = 1.0\n",
      "driver_choices_JJJJJJ = 1.0\n"
     ]
    }
   ],
   "source": [
    "for v in prob.variables():\n",
    "    print(f\"{v.name} = {v.varValue}\")"
   ]
  },
  {
   "cell_type": "markdown",
   "metadata": {},
   "source": [
    "The optimization spotted a better solution!\n",
    "\n",
    "### Extending\n",
    "Extending this to the full case is a trivial exercise (up to the availability of data). We just need to get the data for all 20 drivers and modify the constraints. This includes:\n",
    "\n",
    " - Budget is now 100\n",
    " - We must choose 5 drivers\n",
    " - We must choose a single constructor\n",
    " \n",
    "Constructors didn't feature in this example but the principle is exactly the same. The addtional code will be along the lines of:\n",
    "\n",
    "``` python\n",
    "constructors = [\"Mercedes\", \"Ferrari\", ..., \"Williams\"]\n",
    "\n",
    "constructor_choices = LpVariable.dicts(\n",
    "    \"constructor_choices\",\n",
    "    constructors,\n",
    "    lowBound=0,\n",
    "    upBound=1,\n",
    "    cat=LpInteger\n",
    ")\n",
    "\n",
    "prob += lpSum([constructor_choices[c] for c in constructors]) == 1.0, \"Number of Constructors\"\n",
    "\n",
    "```\n",
    "\n",
    "The Total EV condition should also be modified to include drivers and constructors... Then we are done!"
   ]
  }
 ],
 "metadata": {
  "kernelspec": {
   "display_name": "Python 3",
   "language": "python",
   "name": "python3"
  },
  "language_info": {
   "codemirror_mode": {
    "name": "ipython",
    "version": 3
   },
   "file_extension": ".py",
   "mimetype": "text/x-python",
   "name": "python",
   "nbconvert_exporter": "python",
   "pygments_lexer": "ipython3",
   "version": "3.6.9"
  }
 },
 "nbformat": 4,
 "nbformat_minor": 2
}
