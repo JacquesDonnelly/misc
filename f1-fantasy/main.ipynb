{
 "cells": [
  {
   "cell_type": "markdown",
   "metadata": {},
   "source": [
    "# Overview\n",
    "We are trying to optimize Formula 1 fantasy. https://fantasy.formula1.com/. My approach splits the problem into the following components.\n",
    "\n",
    " - Simulation\n",
    " - EV Translation\n",
    " - Team Optimization\n",
    " \n",
    "## Simulation\n",
    "Using the most up to date data available (betting odds? Historic Data?), simulate the next qualifying and race. \n",
    "\n",
    "## EV translation\n",
    "By running the simulation thousands of times and by using the points scoring rules https://fantasy.formula1.com/points-scoring, we can translate the simulations into an expected value for each driver and constructor.\n",
    "\n",
    "## Team Optimization\n",
    "By looking at the points EV of each driver and constructor and their associated price in the fantasy game, we can then use an optimizer to choose the best possible team."
   ]
  }
 ],
 "metadata": {
  "kernelspec": {
   "display_name": "Python 3",
   "language": "python",
   "name": "python3"
  },
  "language_info": {
   "codemirror_mode": {
    "name": "ipython",
    "version": 3
   },
   "file_extension": ".py",
   "mimetype": "text/x-python",
   "name": "python",
   "nbconvert_exporter": "python",
   "pygments_lexer": "ipython3",
   "version": "3.6.9"
  }
 },
 "nbformat": 4,
 "nbformat_minor": 2
}
