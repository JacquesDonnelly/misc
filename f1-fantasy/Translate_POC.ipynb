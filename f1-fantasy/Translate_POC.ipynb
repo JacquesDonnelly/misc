{
 "cells": [
  {
   "cell_type": "code",
   "execution_count": 1,
   "metadata": {},
   "outputs": [],
   "source": [
    "import pandas as pd"
   ]
  },
  {
   "cell_type": "markdown",
   "metadata": {},
   "source": [
    "# POC\n",
    "Let's assume we have ran a sinlge simulation which output the following:"
   ]
  },
  {
   "cell_type": "code",
   "execution_count": 2,
   "metadata": {},
   "outputs": [
    {
     "data": {
      "text/html": [
       "<div>\n",
       "<style scoped>\n",
       "    .dataframe tbody tr th:only-of-type {\n",
       "        vertical-align: middle;\n",
       "    }\n",
       "\n",
       "    .dataframe tbody tr th {\n",
       "        vertical-align: top;\n",
       "    }\n",
       "\n",
       "    .dataframe thead th {\n",
       "        text-align: right;\n",
       "    }\n",
       "</style>\n",
       "<table border=\"1\" class=\"dataframe\">\n",
       "  <thead>\n",
       "    <tr style=\"text-align: right;\">\n",
       "      <th></th>\n",
       "      <th>team</th>\n",
       "      <th>finish</th>\n",
       "      <th>start</th>\n",
       "      <th>dnf</th>\n",
       "      <th>fastest_lap</th>\n",
       "    </tr>\n",
       "    <tr>\n",
       "      <th>driver</th>\n",
       "      <th></th>\n",
       "      <th></th>\n",
       "      <th></th>\n",
       "      <th></th>\n",
       "      <th></th>\n",
       "    </tr>\n",
       "  </thead>\n",
       "  <tbody>\n",
       "    <tr>\n",
       "      <th>Hamilton</th>\n",
       "      <td>Mercedes</td>\n",
       "      <td>1</td>\n",
       "      <td>1</td>\n",
       "      <td>0</td>\n",
       "      <td>0</td>\n",
       "    </tr>\n",
       "    <tr>\n",
       "      <th>Verstappen</th>\n",
       "      <td>RedBull</td>\n",
       "      <td>2</td>\n",
       "      <td>2</td>\n",
       "      <td>0</td>\n",
       "      <td>1</td>\n",
       "    </tr>\n",
       "    <tr>\n",
       "      <th>Leclerc</th>\n",
       "      <td>Ferrari</td>\n",
       "      <td>3</td>\n",
       "      <td>3</td>\n",
       "      <td>0</td>\n",
       "      <td>0</td>\n",
       "    </tr>\n",
       "    <tr>\n",
       "      <th>Bottas</th>\n",
       "      <td>Mercedes</td>\n",
       "      <td>4</td>\n",
       "      <td>20</td>\n",
       "      <td>0</td>\n",
       "      <td>0</td>\n",
       "    </tr>\n",
       "    <tr>\n",
       "      <th>Vettel</th>\n",
       "      <td>Ferrari</td>\n",
       "      <td>5</td>\n",
       "      <td>4</td>\n",
       "      <td>0</td>\n",
       "      <td>0</td>\n",
       "    </tr>\n",
       "  </tbody>\n",
       "</table>\n",
       "</div>"
      ],
      "text/plain": [
       "                team  finish  start  dnf  fastest_lap\n",
       "driver                                               \n",
       "Hamilton    Mercedes       1      1    0            0\n",
       "Verstappen   RedBull       2      2    0            1\n",
       "Leclerc      Ferrari       3      3    0            0\n",
       "Bottas      Mercedes       4     20    0            0\n",
       "Vettel       Ferrari       5      4    0            0"
      ]
     },
     "execution_count": 2,
     "metadata": {},
     "output_type": "execute_result"
    }
   ],
   "source": [
    "df = pd.read_csv(\"dummy_sim.csv\", index_col=0)\n",
    "df.head()"
   ]
  },
  {
   "cell_type": "markdown",
   "metadata": {},
   "source": [
    "Our goal is to translate this sim result into the number of points gained per constructor and per driver"
   ]
  },
  {
   "cell_type": "markdown",
   "metadata": {},
   "source": [
    "## Driver Points"
   ]
  },
  {
   "cell_type": "markdown",
   "metadata": {},
   "source": [
    "### Qualy Session Points\n",
    "3 points for Q3, 2 Points for Q2 and 1 Point for Q1 "
   ]
  },
  {
   "cell_type": "code",
   "execution_count": 3,
   "metadata": {},
   "outputs": [],
   "source": [
    "q3 = df.eval(\"start <= 10\").mul(3)\n",
    "q2 = df.eval(\"10 < start <= 15\").mul(2)\n",
    "q1 = df.eval(\"15 < start\").mul(1)\n",
    "df[\"qualy_session_points\"] = q1 + q2 + q3"
   ]
  },
  {
   "cell_type": "markdown",
   "metadata": {},
   "source": [
    "### Qualy Position Bonuses\n",
    "10 Points for pole, 9 points for 2nd, ..., 1 point for 10th"
   ]
  },
  {
   "cell_type": "code",
   "execution_count": 4,
   "metadata": {},
   "outputs": [],
   "source": [
    "qualy_bonus = 11 - df[\"start\"]\n",
    "qualy_bonus[qualy_bonus < 0] = 0\n",
    "df[\"qualy_bonus_points\"] = qualy_bonus"
   ]
  },
  {
   "cell_type": "markdown",
   "metadata": {},
   "source": [
    "### vs Team Mate\n",
    "2 Points for qualifying and 3 points for finishing ahead of team mate"
   ]
  },
  {
   "cell_type": "code",
   "execution_count": 5,
   "metadata": {},
   "outputs": [],
   "source": [
    "team_groups = df.groupby(\"team\").groups\n",
    "\n",
    "for team in team_groups:\n",
    "    team_df = df.loc[team_groups[team]][[\"start\", \"finish\"]]\n",
    "    qualy_winner = team_df.sort_values(\"start\").index[0]\n",
    "    race_winner = team_df.sort_values(\"finish\").index[0]\n",
    "    df.loc[qualy_winner, \"vs_qualy_points\"] = 2\n",
    "    df.loc[race_winner, \"vs_race_points\"] = 3\n",
    "\n",
    "df = df.fillna(0)"
   ]
  },
  {
   "cell_type": "markdown",
   "metadata": {},
   "source": [
    "### Finishing Race\n",
    "1 Point for finishing the race"
   ]
  },
  {
   "cell_type": "code",
   "execution_count": 6,
   "metadata": {},
   "outputs": [],
   "source": [
    "df[\"finished_race_points\"] = 1 - df[\"dnf\"]"
   ]
  },
  {
   "cell_type": "markdown",
   "metadata": {},
   "source": [
    "### Points Diff\n",
    "2 Points per position gained and -2 or -1 points per position lost for inside or outside of top 10."
   ]
  },
  {
   "cell_type": "code",
   "execution_count": 7,
   "metadata": {},
   "outputs": [],
   "source": [
    "positions_gained = 2 * (df[\"start\"] - df[\"finish\"])\n",
    "positions_gained[positions_gained < 0] = 0\n",
    "positions_gained[positions_gained > 10] = 10\n",
    "df[\"positions_gained_points\"] = positions_gained"
   ]
  },
  {
   "cell_type": "code",
   "execution_count": 8,
   "metadata": {},
   "outputs": [],
   "source": [
    "positions_lost_top_10 = -2 * (df[\"finish\"] - df[\"start\"])\n",
    "positions_lost_top_10[positions_lost_top_10 > 0] = 0\n",
    "positions_lost_top_10[df[\"start\"] > 10] = 0\n",
    "positions_lost_top_10[positions_lost_top_10 < -10] = -10\n",
    "\n",
    "positions_lost_bottom_10 = df[\"start\"] - df[\"finish\"]\n",
    "positions_lost_bottom_10[positions_lost_bottom_10 > 0] = 0\n",
    "positions_lost_bottom_10[df[\"start\"] <= 10] = 0\n",
    "positions_lost_bottom_10[positions_lost_bottom_10 < -5] = -5\n",
    "\n",
    "positions_lost_points = positions_lost_top_10 + positions_lost_bottom_10\n",
    "df[\"positions_lost_points\"] = positions_lost_points"
   ]
  },
  {
   "cell_type": "markdown",
   "metadata": {},
   "source": [
    "### Finishing Position Bonuses\n",
    "Points for top 10 finishes"
   ]
  },
  {
   "cell_type": "code",
   "execution_count": 9,
   "metadata": {},
   "outputs": [],
   "source": [
    "points_by_position = {\n",
    "    1: 25,\n",
    "    2: 18,\n",
    "    3: 15,\n",
    "    4: 12,\n",
    "    5: 10,\n",
    "    6: 8,\n",
    "    7: 6,\n",
    "    8: 4,\n",
    "    9: 2,\n",
    "    10: 1,\n",
    "    0: 0,\n",
    "}\n",
    "finishing_position_points = df[\"finish\"].copy()\n",
    "finishing_position_points[finishing_position_points > 10] = 0\n",
    "finishing_position_points = finishing_position_points.map(points_by_position)\n",
    "df[\"finish_position_points\"] = finishing_position_points"
   ]
  },
  {
   "cell_type": "markdown",
   "metadata": {},
   "source": [
    "### Fastest Lap\n",
    "5 Points for Fastest Lap\n"
   ]
  },
  {
   "cell_type": "code",
   "execution_count": 12,
   "metadata": {},
   "outputs": [],
   "source": [
    "df[\"fastest_lap_points\"] = df[\"fastest_lap\"] * 5"
   ]
  },
  {
   "cell_type": "markdown",
   "metadata": {},
   "source": [
    "# summary"
   ]
  },
  {
   "cell_type": "markdown",
   "metadata": {},
   "source": [
    "For the drivers points we just sum across all columns. For constructors we sum across the following columns and sum both drivers scores:\n",
    " - qualy_session_points\n",
    " - qualy_bonus_points\n",
    " - finished_race_points\n",
    " - positions_gained_points\n",
    " - positions_lost_points\n",
    " - finishing_position_points"
   ]
  },
  {
   "cell_type": "code",
   "execution_count": 28,
   "metadata": {},
   "outputs": [
    {
     "data": {
      "text/plain": [
       "driver\n",
       "Hamilton      44.0\n",
       "Verstappen    42.0\n",
       "Leclerc       32.0\n",
       "Bottas        24.0\n",
       "Perez         22.0\n",
       "Vettel        19.0\n",
       "Albon         16.0\n",
       "Kvyat         16.0\n",
       "Norris        14.0\n",
       "Raikkonen     13.0\n",
       "Russell        9.0\n",
       "Magnussen      8.0\n",
       "Ricciardo      5.0\n",
       "Sainz          4.0\n",
       "Giovinazzi     4.0\n",
       "Grosjean       3.0\n",
       "Latifi         2.0\n",
       "Ocon           0.0\n",
       "Gasly          0.0\n",
       "Stroll        -3.0\n",
       "dtype: float64"
      ]
     },
     "execution_count": 28,
     "metadata": {},
     "output_type": "execute_result"
    }
   ],
   "source": [
    "df.drop(axis=1, labels=[\"team\", \"finish\", \"start\", \"dnf\"]).sum(axis=1).sort_values(ascending=False)"
   ]
  },
  {
   "cell_type": "code",
   "execution_count": 27,
   "metadata": {},
   "outputs": [
    {
     "data": {
      "text/plain": [
       "team\n",
       "Mercedes       63\n",
       "RedBull        47\n",
       "Ferrari        46\n",
       "RacingPoint    14\n",
       "McLaren        13\n",
       "AlphaRomeo     12\n",
       "AlphaTauri     11\n",
       "Williams        6\n",
       "Haas            6\n",
       "Renault         0\n",
       "dtype: int64"
      ]
     },
     "execution_count": 27,
     "metadata": {},
     "output_type": "execute_result"
    }
   ],
   "source": [
    "df.reset_index()[\n",
    "    [\n",
    "        \"team\",\n",
    "        \"qualy_session_points\",\n",
    "        \"qualy_bonus_points\",\n",
    "        \"finished_race_points\",\n",
    "        \"positions_gained_points\",\n",
    "        \"positions_lost_points\",\n",
    "        \"finish_position_points\",\n",
    "    ]\n",
    "].groupby(\"team\").sum().sum(axis=1).sort_values(ascending=False)"
   ]
  }
 ],
 "metadata": {
  "kernelspec": {
   "display_name": "Python 3",
   "language": "python",
   "name": "python3"
  },
  "language_info": {
   "codemirror_mode": {
    "name": "ipython",
    "version": 3
   },
   "file_extension": ".py",
   "mimetype": "text/x-python",
   "name": "python",
   "nbconvert_exporter": "python",
   "pygments_lexer": "ipython3",
   "version": "3.6.9"
  }
 },
 "nbformat": 4,
 "nbformat_minor": 2
}
