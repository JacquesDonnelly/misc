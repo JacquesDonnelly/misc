{
 "cells": [
  {
   "cell_type": "markdown",
   "metadata": {},
   "source": [
    "For the postgres database:\n",
    "\n",
    "```\n",
    "docker run --rm   --name pg-docker -e POSTGRES_PASSWORD=docker -d -p 5432:5432 -v $HOME/docker/volumes/postgres:/var/lib/postgresql/data  postgres\n",
    "```\n",
    "\n",
    "And for postgres admin \n",
    "\n",
    "```\n",
    "python git/misc/venv/lib/python3.6/site-packages/pgadmin4/pgAdmin4.py\n",
    "```\n",
    "After mofifying a local run py file with some env variables. "
   ]
  },
  {
   "cell_type": "markdown",
   "metadata": {},
   "source": [
    "### TODO:\n",
    " - create a script that boots both of these up in containers\n",
    " - read posgresql documentation and find best practices for auth, access to admin and schema/table design\n",
    " - create table to house the cards! (look at what the max chars can be for quizlet cards)"
   ]
  }
 ],
 "metadata": {
  "kernelspec": {
   "display_name": "Python 3",
   "language": "python",
   "name": "python3"
  },
  "language_info": {
   "codemirror_mode": {
    "name": "ipython",
    "version": 3
   },
   "file_extension": ".py",
   "mimetype": "text/x-python",
   "name": "python",
   "nbconvert_exporter": "python",
   "pygments_lexer": "ipython3",
   "version": "3.6.9"
  }
 },
 "nbformat": 4,
 "nbformat_minor": 2
}
