{
 "cells": [
  {
   "cell_type": "markdown",
   "metadata": {},
   "source": [
    "### Automate Copy and Paste into an Excel Sheet"
   ]
  },
  {
   "cell_type": "code",
   "execution_count": null,
   "metadata": {},
   "outputs": [],
   "source": [
    "import pandas as pd\n",
    "from openpyxl import load_workbook"
   ]
  },
  {
   "cell_type": "code",
   "execution_count": null,
   "metadata": {},
   "outputs": [],
   "source": [
    "# Loads names.csv and populates the input sheet of template.xlsx\n",
    "\n",
    "df = pd.read_csv(\"names.csv\")\n",
    "wb = load_workbook(\"template.xlsx\")\n",
    "ws = wb[\"INPUT SH\"]\n",
    "cell_range = ws[\"I22:J24\"]\n",
    "for x, row in enumerate(cell_range):\n",
    "    for y, cell in enumerate(row):\n",
    "        cell.value = df.values[x][y]\n",
    "wb.save(\"template.xlsx\")"
   ]
  }
 ],
 "metadata": {
  "kernelspec": {
   "display_name": "Python 3",
   "language": "python",
   "name": "python3"
  },
  "language_info": {
   "codemirror_mode": {
    "name": "ipython",
    "version": 3
   },
   "file_extension": ".py",
   "mimetype": "text/x-python",
   "name": "python",
   "nbconvert_exporter": "python",
   "pygments_lexer": "ipython3",
   "version": "3.6.9"
  }
 },
 "nbformat": 4,
 "nbformat_minor": 2
}
