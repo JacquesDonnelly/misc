{
 "cells": [
  {
   "cell_type": "code",
   "execution_count": 19,
   "metadata": {},
   "outputs": [],
   "source": [
    "import requests\n",
    "from bs4 import BeautifulSoup\n",
    "import re\n",
    "from tqdm.notebook import tqdm_notebook\n",
    "import pandas as pd"
   ]
  },
  {
   "cell_type": "markdown",
   "metadata": {},
   "source": [
    "### getting all codes"
   ]
  },
  {
   "cell_type": "code",
   "execution_count": 20,
   "metadata": {},
   "outputs": [],
   "source": [
    "url = \"https://www.bankofengland.co.uk/boeapps/database/index.asp?Travel=NIxIRx&levels=2&XNotes=Y&C=5JK&C=UH5&C=UH6&C=UH7&C=UH4&C=UH3&A41513XNode41513.x=12&A41513XNode41513.y=17&Nodes=X3687X3688X3691X3694X3716X3738X3754X3757X3764X3771X3774X3695X38047X3698X3739X3742X3745X3765X3768X3758X3761X3701X3704X3707X3710X3713X3717X3720X3723X3726X3729X3732X3735X3748X3751X31340X31344X31345X31346X31341X31361X31369X31372X31342X31366X31377X31385X31343X31388X31390X31391X3951X3952X3955X3958X3961X3965X3969X3972X3975X3978X3981X3985X3989X3992X3995X3998X4001X4004X4007X4010X4013X4016X4019X41107X41122X4022X4023X4026X4029X4032X4035X4036X4039X4042X4045X4048X33900X33901X4051X4052X4053X4054X4058X4062X4066X4067X4068X4069X4070X38263X38563X38564X38565X38598X4071X4072X4073X38265X38555X38556X38557X38600X4074X4075X4076X38267X38547X38548X38549X38602X4097X4098X4099X4100X4101X38281X38487X38488X38489X38614X4102X4103X4104X38283X38479X38480X38481X38616X4105X4106X4107X38285X38471X38472X38473X38618X4128X4129X4132X4135X4138X33880X37685X42428X42429X42430X55729X67292X67293X67294X79761X79762X79763X80341X85781X85921X86021X87941X88261X89101&SectionRequired=I&HideNums=-1&ExtraInfo=true#BM\""
   ]
  },
  {
   "cell_type": "code",
   "execution_count": 21,
   "metadata": {},
   "outputs": [],
   "source": [
    "r = requests.get(url)"
   ]
  },
  {
   "cell_type": "code",
   "execution_count": 22,
   "metadata": {},
   "outputs": [],
   "source": [
    "html = r.text.replace(\"\\t\", \"\").replace(\"\\n\", \"\").replace(\"\\r\", \"\")"
   ]
  },
  {
   "cell_type": "code",
   "execution_count": 23,
   "metadata": {
    "scrolled": false
   },
   "outputs": [],
   "source": [
    "codes = re.findall(\"([A-Z0-9]{3}[A-Z0-9]+) - Daily\", html)"
   ]
  },
  {
   "cell_type": "markdown",
   "metadata": {},
   "source": [
    "### given a code we can get the time series"
   ]
  },
  {
   "cell_type": "code",
   "execution_count": 24,
   "metadata": {},
   "outputs": [],
   "source": [
    "url = \"https://www.bankofengland.co.uk/boeapps/database/fromshowcolumns.asp?Travel=NIxAZxSUx&FromSeries=1&ToSeries=50&DAT=RNG&FD=1&FM=Jan&FY=2009&TD=31&TM=Dec&TY=2020&FNY=Y&CSVF=TT&html.x=66&html.y=26&SeriesCodes={code}&UsingCodes=Y&Filter=N&title=IUDBEDR&VPD=Y#\""
   ]
  },
  {
   "cell_type": "code",
   "execution_count": 25,
   "metadata": {},
   "outputs": [],
   "source": [
    "def get_dataframe(code=\"XUDLPEG\", url=url):\n",
    "    url = url.format(code=code)\n",
    "    r = requests.get(url)\n",
    "    html = r.text.replace(\"\\t\", \"\").replace(\"\\n\", \"\").replace(\"\\r\", \"\")\n",
    "    soup = BeautifulSoup(html)\n",
    "    make_chart_script = soup.find(text=re.compile(\"AmCharts.makeChart\"))\n",
    "    data = re.findall('{\"Date\": \"(\\d\\d-\\d\\d-\\d{4})\",\"Value\": \"(\\d+.?\\d+?)\"', str(make_chart_script))\n",
    "    df = pd.DataFrame.from_records(data, columns=[\"date\", \"value\"])\n",
    "    df[\"date\"] = pd.to_datetime(df[\"date\"])\n",
    "    df[\"value\"] = df[\"value\"].astype(float)\n",
    "    df = df.set_index(\"date\")\n",
    "    df[\"code\"] = code\n",
    "\n",
    "    return df"
   ]
  },
  {
   "cell_type": "code",
   "execution_count": 26,
   "metadata": {},
   "outputs": [],
   "source": [
    "df = get_dataframe()"
   ]
  },
  {
   "cell_type": "code",
   "execution_count": 27,
   "metadata": {},
   "outputs": [
    {
     "data": {
      "text/plain": [
       "True"
      ]
     },
     "execution_count": 27,
     "metadata": {},
     "output_type": "execute_result"
    }
   ],
   "source": [
    "df.empty"
   ]
  },
  {
   "cell_type": "code",
   "execution_count": 34,
   "metadata": {},
   "outputs": [
    {
     "data": {
      "application/vnd.jupyter.widget-view+json": {
       "model_id": "067da78060c14f5a8856944243801cfc",
       "version_major": 2,
       "version_minor": 0
      },
      "text/plain": [
       "HBox(children=(FloatProgress(value=0.0, max=104.0), HTML(value='')))"
      ]
     },
     "metadata": {},
     "output_type": "display_data"
    },
    {
     "name": "stdout",
     "output_type": "stream",
     "text": [
      "Empty dataframe returned for IUDVJND\n",
      "Empty dataframe returned for IUDAJND\n",
      "Empty dataframe returned for IUDLEB3\n",
      "Empty dataframe returned for XUDLGBG\n",
      "Empty dataframe returned for XUDLASG\n",
      "Empty dataframe returned for XUDLBFG\n",
      "Empty dataframe returned for XUDLDMG\n",
      "Empty dataframe returned for XUDLFMG\n",
      "Empty dataframe returned for XUDLFFG\n",
      "Empty dataframe returned for XUDLIPG\n",
      "Empty dataframe returned for XUDLILG\n",
      "Empty dataframe returned for XUDLNGG\n",
      "Empty dataframe returned for XUDLPEG\n",
      "Empty dataframe returned for XUDLSPG\n",
      "Empty dataframe returned for XUDLGDG\n",
      "Empty dataframe returned for IUDAJUR\n",
      "Empty dataframe returned for IUDEBEN\n",
      "Empty dataframe returned for IUDBK58\n",
      "Empty dataframe returned for IUDAJLW\n",
      "\n"
     ]
    }
   ],
   "source": [
    "results = []\n",
    "failures = []\n",
    "for code in tqdm_notebook(codes):\n",
    "    try:\n",
    "        data = get_dataframe(code)\n",
    "    except:\n",
    "        print(f\"Data collection failed for {code}\")\n",
    "    if not data.empty:\n",
    "        results.append(data)\n",
    "    else:\n",
    "        print(f\"Empty dataframe returned for {code}\")\n",
    "        failures.append(code)"
   ]
  },
  {
   "cell_type": "code",
   "execution_count": 36,
   "metadata": {},
   "outputs": [
    {
     "data": {
      "text/plain": [
       "['IUDVJND',\n",
       " 'IUDAJND',\n",
       " 'IUDLEB3',\n",
       " 'XUDLGBG',\n",
       " 'XUDLASG',\n",
       " 'XUDLBFG',\n",
       " 'XUDLDMG',\n",
       " 'XUDLFMG',\n",
       " 'XUDLFFG',\n",
       " 'XUDLIPG',\n",
       " 'XUDLILG',\n",
       " 'XUDLNGG',\n",
       " 'XUDLPEG',\n",
       " 'XUDLSPG',\n",
       " 'XUDLGDG',\n",
       " 'IUDAJUR',\n",
       " 'IUDEBEN',\n",
       " 'IUDBK58',\n",
       " 'IUDAJLW']"
      ]
     },
     "execution_count": 36,
     "metadata": {},
     "output_type": "execute_result"
    }
   ],
   "source": [
    "failures"
   ]
  },
  {
   "cell_type": "code",
   "execution_count": 40,
   "metadata": {},
   "outputs": [],
   "source": [
    "final_df = pd.concat(results)"
   ]
  },
  {
   "cell_type": "code",
   "execution_count": 41,
   "metadata": {},
   "outputs": [
    {
     "data": {
      "text/html": [
       "<div>\n",
       "<style scoped>\n",
       "    .dataframe tbody tr th:only-of-type {\n",
       "        vertical-align: middle;\n",
       "    }\n",
       "\n",
       "    .dataframe tbody tr th {\n",
       "        vertical-align: top;\n",
       "    }\n",
       "\n",
       "    .dataframe thead th {\n",
       "        text-align: right;\n",
       "    }\n",
       "</style>\n",
       "<table border=\"1\" class=\"dataframe\">\n",
       "  <thead>\n",
       "    <tr style=\"text-align: right;\">\n",
       "      <th></th>\n",
       "      <th>value</th>\n",
       "      <th>code</th>\n",
       "    </tr>\n",
       "    <tr>\n",
       "      <th>date</th>\n",
       "      <th></th>\n",
       "      <th></th>\n",
       "    </tr>\n",
       "  </thead>\n",
       "  <tbody>\n",
       "    <tr>\n",
       "      <th>2009-08-01</th>\n",
       "      <td>1.5000</td>\n",
       "      <td>IUDBEDR</td>\n",
       "    </tr>\n",
       "    <tr>\n",
       "      <th>2009-09-01</th>\n",
       "      <td>1.5000</td>\n",
       "      <td>IUDBEDR</td>\n",
       "    </tr>\n",
       "    <tr>\n",
       "      <th>2009-12-01</th>\n",
       "      <td>1.5000</td>\n",
       "      <td>IUDBEDR</td>\n",
       "    </tr>\n",
       "    <tr>\n",
       "      <th>2009-01-13</th>\n",
       "      <td>1.5000</td>\n",
       "      <td>IUDBEDR</td>\n",
       "    </tr>\n",
       "    <tr>\n",
       "      <th>2009-01-14</th>\n",
       "      <td>1.5000</td>\n",
       "      <td>IUDBEDR</td>\n",
       "    </tr>\n",
       "    <tr>\n",
       "      <th>...</th>\n",
       "      <td>...</td>\n",
       "      <td>...</td>\n",
       "    </tr>\n",
       "    <tr>\n",
       "      <th>2016-08-07</th>\n",
       "      <td>0.4011</td>\n",
       "      <td>IUDAJLT</td>\n",
       "    </tr>\n",
       "    <tr>\n",
       "      <th>2016-11-07</th>\n",
       "      <td>0.4956</td>\n",
       "      <td>IUDAJLT</td>\n",
       "    </tr>\n",
       "    <tr>\n",
       "      <th>2016-12-07</th>\n",
       "      <td>0.4304</td>\n",
       "      <td>IUDAJLT</td>\n",
       "    </tr>\n",
       "    <tr>\n",
       "      <th>2016-07-13</th>\n",
       "      <td>0.4488</td>\n",
       "      <td>IUDAJLT</td>\n",
       "    </tr>\n",
       "    <tr>\n",
       "      <th>2016-07-14</th>\n",
       "      <td>0.4705</td>\n",
       "      <td>IUDAJLT</td>\n",
       "    </tr>\n",
       "  </tbody>\n",
       "</table>\n",
       "<p>162832 rows × 2 columns</p>\n",
       "</div>"
      ],
      "text/plain": [
       "             value     code\n",
       "date                       \n",
       "2009-08-01  1.5000  IUDBEDR\n",
       "2009-09-01  1.5000  IUDBEDR\n",
       "2009-12-01  1.5000  IUDBEDR\n",
       "2009-01-13  1.5000  IUDBEDR\n",
       "2009-01-14  1.5000  IUDBEDR\n",
       "...            ...      ...\n",
       "2016-08-07  0.4011  IUDAJLT\n",
       "2016-11-07  0.4956  IUDAJLT\n",
       "2016-12-07  0.4304  IUDAJLT\n",
       "2016-07-13  0.4488  IUDAJLT\n",
       "2016-07-14  0.4705  IUDAJLT\n",
       "\n",
       "[162832 rows x 2 columns]"
      ]
     },
     "execution_count": 41,
     "metadata": {},
     "output_type": "execute_result"
    }
   ],
   "source": [
    "final_df"
   ]
  },
  {
   "cell_type": "code",
   "execution_count": 43,
   "metadata": {},
   "outputs": [],
   "source": [
    "final_df.to_csv(\"daily_codes.csv\")"
   ]
  }
 ],
 "metadata": {
  "kernelspec": {
   "display_name": "Python 3",
   "language": "python",
   "name": "python3"
  },
  "language_info": {
   "codemirror_mode": {
    "name": "ipython",
    "version": 3
   },
   "file_extension": ".py",
   "mimetype": "text/x-python",
   "name": "python",
   "nbconvert_exporter": "python",
   "pygments_lexer": "ipython3",
   "version": "3.7.5"
  }
 },
 "nbformat": 4,
 "nbformat_minor": 4
}
