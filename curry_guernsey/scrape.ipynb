{
 "cells": [
  {
   "cell_type": "code",
   "execution_count": 3,
   "metadata": {},
   "outputs": [],
   "source": [
    "from bs4 import BeautifulSoup\n",
    "import requests"
   ]
  },
  {
   "cell_type": "code",
   "execution_count": 27,
   "metadata": {},
   "outputs": [],
   "source": [
    "url = \"https://www.tripadvisor.co.uk/Restaurants-g186229-Guernsey_Channel_Islands.html\""
   ]
  },
  {
   "cell_type": "code",
   "execution_count": 28,
   "metadata": {},
   "outputs": [],
   "source": [
    "r = requests.get(url)"
   ]
  },
  {
   "cell_type": "code",
   "execution_count": 29,
   "metadata": {},
   "outputs": [],
   "source": [
    "soup = BeautifulSoup(r.text)"
   ]
  },
  {
   "cell_type": "code",
   "execution_count": 30,
   "metadata": {},
   "outputs": [],
   "source": [
    "restaurants = soup.find_all(\n",
    "    \"div\", \n",
    "    {\"class\": \"restaurants-list-ListCell__infoWrapper--3agHz\"}\n",
    ")"
   ]
  },
  {
   "cell_type": "code",
   "execution_count": 31,
   "metadata": {},
   "outputs": [
    {
     "data": {
      "text/plain": [
       "30"
      ]
     },
     "execution_count": 31,
     "metadata": {},
     "output_type": "execute_result"
    }
   ],
   "source": [
    "len(restaurants)"
   ]
  },
  {
   "cell_type": "code",
   "execution_count": 34,
   "metadata": {},
   "outputs": [
    {
     "data": {
      "text/plain": [
       "'restaurants-list-ListCell__restaurantName--2aSdo'"
      ]
     },
     "execution_count": 34,
     "metadata": {},
     "output_type": "execute_result"
    }
   ],
   "source": [
    "\"restaurants-list-ListCell__restaurantName--2aSdo\""
   ]
  },
  {
   "cell_type": "code",
   "execution_count": 83,
   "metadata": {},
   "outputs": [],
   "source": [
    "# rest = restaurants[0]\n",
    "restaurant_names = []\n",
    "for rest in restaurants:\n",
    "    title_element = rest.find(\"div\", \"restaurants-list-ListCell__titleRow--3rRCX ui_columns is-gapless is-mobile is-multiline\")\n",
    "    restaurant_names.append(title_element.text)"
   ]
  },
  {
   "cell_type": "code",
   "execution_count": 42,
   "metadata": {},
   "outputs": [],
   "source": [
    "review_count=\"restaurants-list-ListCell__bubbleRating--1i1jl\""
   ]
  },
  {
   "cell_type": "code",
   "execution_count": 57,
   "metadata": {},
   "outputs": [],
   "source": [
    "rest = restaurants[1]"
   ]
  },
  {
   "cell_type": "code",
   "execution_count": 82,
   "metadata": {},
   "outputs": [],
   "source": [
    "ratings = []\n",
    "for rest in restaurants:\n",
    "    rating = rest.find(\"span\", {\"class\": review_count})\n",
    "\n",
    "    parent = rating.parent\n",
    "\n",
    "    review_url = f\"https://www.tripadvisor.co.uk{parent.get('href')}\"\n",
    "\n",
    "    r2 = requests.get(review_url)\n",
    "\n",
    "    soup2 = BeautifulSoup(r2.text)\n",
    "\n",
    "    ratings_table = soup2.find_all(\"span\", {\"class\": \"row_num is-shown-at-tablet\"})\n",
    "\n",
    "#     print([rating.text for rating in ratings_table])\n",
    "    \n",
    "    ratings.append([rating.text for rating in ratings_table])"
   ]
  },
  {
   "cell_type": "code",
   "execution_count": 88,
   "metadata": {},
   "outputs": [],
   "source": [
    "restaurant_names = [\" \".join(x.split(\" \")[1:]) for x in restaurant_names]"
   ]
  },
  {
   "cell_type": "code",
   "execution_count": 89,
   "metadata": {},
   "outputs": [],
   "source": [
    "import pandas as pd"
   ]
  },
  {
   "cell_type": "code",
   "execution_count": 108,
   "metadata": {},
   "outputs": [],
   "source": [
    "df = pd.DataFrame(ratings, columns=[\"5\", \"4\", \"3\", \"2\", \"1\"])"
   ]
  },
  {
   "cell_type": "code",
   "execution_count": 109,
   "metadata": {},
   "outputs": [],
   "source": [
    "df.index = restaurant_names"
   ]
  },
  {
   "cell_type": "code",
   "execution_count": 111,
   "metadata": {},
   "outputs": [],
   "source": [
    "df.to_csv(\"top_30_guernsey.csv\")"
   ]
  },
  {
   "cell_type": "code",
   "execution_count": null,
   "metadata": {},
   "outputs": [],
   "source": []
  }
 ],
 "metadata": {
  "kernelspec": {
   "display_name": "Python 3",
   "language": "python",
   "name": "python3"
  },
  "language_info": {
   "codemirror_mode": {
    "name": "ipython",
    "version": 3
   },
   "file_extension": ".py",
   "mimetype": "text/x-python",
   "name": "python",
   "nbconvert_exporter": "python",
   "pygments_lexer": "ipython3",
   "version": "3.6.9"
  }
 },
 "nbformat": 4,
 "nbformat_minor": 2
}
